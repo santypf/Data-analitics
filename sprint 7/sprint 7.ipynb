{
 "cells": [
  {
   "cell_type": "markdown",
   "metadata": {},
   "source": [
    "# NIVELL 1"
   ]
  },
  {
   "cell_type": "markdown",
   "metadata": {},
   "source": [
    "## Exercici 1"
   ]
  },
  {
   "cell_type": "markdown",
   "metadata": {},
   "source": [
    "Calculadora de l'índex de massa corporal\n",
    "\n",
    "Escriu una funció que calculi l'IMC ingressat per l'usuari/ària, és a dir, qui ho executi haurà d'ingressar aquestes dades. Pots obtenir més informació del seu càlcul en:\n",
    "\n",
    "-> Índice de masa corporal IMC que es y como se calcula.\n",
    "\n",
    "La funció ha de classificar el resultat en les seves respectives categories"
   ]
  },
  {
   "cell_type": "code",
   "execution_count": null,
   "metadata": {},
   "outputs": [
    {
     "name": "stdout",
     "output_type": "stream",
     "text": [
      "Calculadora de Índice de Masa Corporal (IMC)\n",
      "santy, su IMC es: 21.48\n",
      "Clasificación: Peso normal\n"
     ]
    }
   ],
   "source": [
    "def obtener_dato(mensaje, min_val, max_val):\n",
    "    \"\"\"Comprobador datos obtenidos correctos.\"\"\"\n",
    "    while True:\n",
    "        try:\n",
    "            valor = float(input(mensaje))\n",
    "            if min_val <= valor <= max_val:\n",
    "                return valor\n",
    "            else:\n",
    "                print(f\"Error: el valor debe estar entre {min_val} y {max_val}.\")\n",
    "        except ValueError:\n",
    "            print(\"Error: ingrese un número válido.\")\n",
    "\n",
    "def calcular_imc(peso, altura):\n",
    "    \"\"\"Calcular IMC.\"\"\"\n",
    "    return peso / (altura ** 2)\n",
    "\n",
    "def clasificar_imc(imc):\n",
    "    \"\"\"Clasificar IMC obtenido.\"\"\"\n",
    "    if imc < 18.5:\n",
    "        return \"Bajo peso\"\n",
    "    elif imc < 24.9:\n",
    "        return \"Peso normal\"\n",
    "    elif imc < 29.9:\n",
    "        return \"Sobrepeso\"\n",
    "    else:\n",
    "        return \"Obesidad\"\n",
    "\n",
    "def pedir_datos():\n",
    "    \"\"\"Solicita al usuario su nombre, peso y altura.\"\"\"\n",
    "    nombre = input(\"Nombre: \")\n",
    "    peso = obtener_dato(\"Peso en kg: \", 1, 500)\n",
    "    altura = obtener_dato(\"Altura en metros: \", 0.5, 3)\n",
    "    return nombre, peso, altura\n",
    "\n",
    "def main():\n",
    "    \"\"\"Funcion principal para controlar el flujo del programa.\"\"\"\n",
    "    print(\"Calculadora de Índice de Masa Corporal (IMC)\")\n",
    "    nombre, peso, altura = pedir_datos()\n",
    "    \n",
    "    imc = calcular_imc(peso, altura)\n",
    "    categoria = clasificar_imc(imc)\n",
    "    \n",
    "    print(f\"{nombre}, su IMC es: {imc:.2f}\")\n",
    "    print(f\"Clasificación: {categoria}\")\n",
    "\n",
    "if __name__ == \"__main__\":\n",
    "    main()"
   ]
  },
  {
   "cell_type": "markdown",
   "metadata": {},
   "source": [
    "## Exercici 2"
   ]
  },
  {
   "cell_type": "markdown",
   "metadata": {},
   "source": [
    "Convertidor de temperatures.\n",
    "\n",
    "Existeixen diverses unitats de temperatura utilitzades en diferents contextos i regions. Les més comunes són Celsius (°C), Fahrenheit (°F) i Kelvin (K). També existeixen altres unitats com Rankine (°Ra) i Réaumur (°Re). Selecciona almenys 2 conversors, de tal manera que en introduir una temperatura retorni, com a mínim, dues conversions."
   ]
  },
  {
   "cell_type": "code",
   "execution_count": 8,
   "metadata": {},
   "outputs": [
    {
     "name": "stdout",
     "output_type": "stream",
     "text": [
      "\n",
      "Convertidor de temperaturas\n",
      "Seleccione la unidad de origen:\n",
      "1. Celsius (°C)\n",
      "2. Fahrenheit (°F)\n",
      "3. Kelvin (K)\n",
      "\n",
      "200.0°F equivale a 93.33°C y 366.48°K\n"
     ]
    }
   ],
   "source": [
    "def obtener_opcion():\n",
    "    \"\"\"Solicita al usuario la opcion de conversion y la devuleve\"\"\"\n",
    "    print(\"\\nConvertidor de temperaturas\")\n",
    "    print(\"Seleccione la unidad de origen:\")\n",
    "    print(\"1. Celsius (°C)\")\n",
    "    print(\"2. Fahrenheit (°F)\")\n",
    "    print(\"3. Kelvin (K)\")\n",
    "\n",
    "    while True:\n",
    "        try:\n",
    "            opcion = int(input(\"Ingrese el numero de la opcion: \"))\n",
    "            if opcion not in [1, 2, 3]:\n",
    "                print(\"Opcion no valida. Intente de nuevo.\")\n",
    "                continue\n",
    "            return opcion\n",
    "        except ValueError:\n",
    "            print(\"Error: Entrada invalida. Ingrese un numero valido.\")\n",
    "\n",
    "def obtener_temperatura(opcion):\n",
    "    \"\"\"Solicita al usuario la temperatura y devuelve el valor.\"\"\"\n",
    "    while True:\n",
    "        try:\n",
    "            temperatura = float(input(\"Ingrese la temperatura: \"))\n",
    "\n",
    "            if opcion == 1 and temperatura < -273.15:\n",
    "                print(\"Error: La temperatura en Celsius no puede ser menor a -273.15°C.\")\n",
    "                continue\n",
    "            if opcion == 2 and (temperatura - 32) * 5/9 < -273.15:\n",
    "                print(\"Error: La temperatura en Fahrenheit es menor a la minima posible.\")\n",
    "                continue\n",
    "            if opcion == 3 and temperatura < 0:\n",
    "                print(\"Error: La temperatura en Keñvin no puede ser negativa.\")\n",
    "                continue\n",
    "\n",
    "            return temperatura\n",
    "        \n",
    "        except ValueError:\n",
    "            print(\"Error: Entrada invalida. Ingrese un numero valido.\")\n",
    "\n",
    "def convertir_temperatura(opcion, temperatura):\n",
    "    \"\"\"Convierte la temperatura segun la opcion seleccionada\"\"\"\n",
    "    if opcion == 1:\n",
    "        fahrenheit = (temperatura * 9/5) + 32\n",
    "        kelvin = temperatura + 273.15\n",
    "        return temperatura, fahrenheit, kelvin\n",
    "    \n",
    "    if opcion == 2:\n",
    "        celsius = (temperatura -32) * 5/9\n",
    "        kelvin = celsius + 273.15\n",
    "        return celsius, temperatura, kelvin\n",
    "    \n",
    "    if opcion == 3:\n",
    "        celsius = temperatura - 273.15\n",
    "        fahrenheit = (celsius * 9/5) + 32\n",
    "        return celsius, fahrenheit, temperatura\n",
    "    \n",
    "def mostrar_resultado(opcion, valores):\n",
    "    \"\"\"Muestra los resultados de la conversion.\"\"\"\n",
    "    if opcion == 1:\n",
    "        print(f\"\\n{valores[0]}°C equivale a {valores[1]:.2f}°F y {valores[2]:.2f}°K\")\n",
    "    elif opcion == 2:\n",
    "        print(f\"\\n{valores[1]}°F equivale a {valores[0]:.2f}°C y {valores[2]:.2f}°K\")\n",
    "    elif opcion == 3:\n",
    "        print(f\"\\n{valores[2]}°K equivale a {valores[0]:.2f}°C y {valores[1]:.2f}°F\")\n",
    "\n",
    "def main():\n",
    "    \"\"\"Funcion principal para controlar el flujo del programa.\"\"\"\n",
    "    opcion = obtener_opcion()\n",
    "    temperatura = obtener_temperatura(opcion)\n",
    "    valores = convertir_temperatura(opcion, temperatura)\n",
    "    mostrar_resultado(opcion, valores)\n",
    "\n",
    "if __name__ == \"__main__\":\n",
    "    main()\n"
   ]
  },
  {
   "cell_type": "markdown",
   "metadata": {},
   "source": [
    "## Exercici 3"
   ]
  },
  {
   "cell_type": "markdown",
   "metadata": {},
   "source": [
    "Comptador de paraules d'un text.\n",
    "\n",
    "Escriu una funció que donat un text, mostri les vegades que apareix cada paraula"
   ]
  },
  {
   "cell_type": "code",
   "execution_count": 3,
   "metadata": {},
   "outputs": [
    {
     "name": "stdout",
     "output_type": "stream",
     "text": [
      "{'hola': 2, 'como': 1, 'vas': 1}\n"
     ]
    }
   ],
   "source": [
    "import re\n",
    "from collections import Counter\n",
    "\n",
    "def contar_palabras(texto):\n",
    "    # Extraer las palabras y convertir todo a minúsculas\n",
    "    palabras = re.findall(r'\\b\\w+\\b', texto.lower())\n",
    "    \n",
    "    # Usar Counter para contar las palabras\n",
    "    contador = Counter(palabras)\n",
    "    \n",
    "    return dict(contador)\n",
    "\n",
    "def main():\n",
    "    \"\"\"Funcion principal para controlar el flujo del programa.\"\"\"\n",
    "    texto = input(\"Introduce el texto: \")\n",
    "    print(contar_palabras(texto))\n",
    "\n",
    "if __name__ == \"__main__\":\n",
    "    main()"
   ]
  },
  {
   "cell_type": "markdown",
   "metadata": {},
   "source": [
    "## Exercici 4"
   ]
  },
  {
   "cell_type": "markdown",
   "metadata": {},
   "source": [
    "Diccionari invers.\n",
    "\n",
    "Resulta que el client té una enquesta molt antiga que s'emmagatzema en un diccionari i els resultats els necessita al revés, és a dir, intercanviats les claus i els valors. Els valors i claus en el diccionari original són únics; si aquest no és el cas, la funció hauria d'imprimir un missatge d'advertiment."
   ]
  },
  {
   "cell_type": "markdown",
   "metadata": {},
   "source": [
    "### exemple 1"
   ]
  },
  {
   "cell_type": "code",
   "execution_count": null,
   "metadata": {},
   "outputs": [
    {
     "name": "stdout",
     "output_type": "stream",
     "text": [
      "Diccionario inverso\n",
      "Resultado: {1: 'a', 2: 'b', 3: 'c'}\n"
     ]
    }
   ],
   "source": [
    "# Diccionario de ejemplo\n",
    "diccionario_ejemplo = {\n",
    "    \"a\": 1,\n",
    "    \"b\": 2,\n",
    "    \"c\": 3\n",
    "}\n",
    "\n",
    "def verificar_valores_unicos(diccionari):\n",
    "    \"\"\"Verifica si los valores del diccionario son únicos.\"\"\"\n",
    "    valors = list(diccionari.values())  # Crear una lista de los valores del diccionario\n",
    "    return len(valors) == len(set(valors))  # Verificar si los valores son únicos\n",
    "\n",
    "def invertir_diccionario(diccionari):\n",
    "    \"\"\"\n",
    "    Invierte el diccionario, si los valores son únicos.\"\"\"\n",
    "    diccionari_invers = {valor: clau for clau, valor in diccionari.items()}  # Invertir el diccionario\n",
    "    return diccionari_invers\n",
    "\n",
    "def transformar_diccionario(diccionari):\n",
    "    \"\"\"Verifica si los valores son únicos. Si no son únicos, muestra una advertencia.\"\"\"\n",
    "    if verificar_valores_unicos(diccionari):\n",
    "        return invertir_diccionario(diccionari)  # Si los valores son únicos, invertimos el diccionario\n",
    "    else:\n",
    "        return \"Advertencia: Los valores no son únicos, no se puede invertir correctamente el diccionario.\"\n",
    "\n",
    "def main(diccionari):\n",
    "    \"\"\"Función principal que ejecuta el programa.\"\"\"\n",
    "    print(\"Diccionario inverso\")\n",
    "    \n",
    "    resultado = transformar_diccionario(diccionari)  # Llamamos a la función que transforma el diccionario\n",
    "    \n",
    "    # Imprimir el resultado (puede ser el diccionario invertido o la advertencia)\n",
    "    print(\"Resultado:\", resultado)\n",
    "\n",
    "# Ejecutar la función principal, pasando el diccionario como argumento\n",
    "if __name__ == \"__main__\":\n",
    "    main(diccionario_ejemplo)"
   ]
  },
  {
   "cell_type": "markdown",
   "metadata": {},
   "source": [
    "### exemple 2"
   ]
  },
  {
   "cell_type": "code",
   "execution_count": null,
   "metadata": {},
   "outputs": [
    {
     "name": "stdout",
     "output_type": "stream",
     "text": [
      "Diccionario inverso\n",
      "Resultado: Advertencia: Los valores no son únicos, no se puede invertir correctamente el diccionario.\n"
     ]
    }
   ],
   "source": [
    "# Diccionario de ejemplo\n",
    "diccionario_ejemplo = {\n",
    "    \"x\": \"apple\",\n",
    "    \"y\": \"banana\",\n",
    "    \"z\": \"banana\"\n",
    "}\n",
    "\n",
    "def main(diccionari):\n",
    "    \"\"\"Función principal que ejecuta el programa.\"\"\"\n",
    "    print(\"Diccionario inverso\")\n",
    "    \n",
    "    resultado = transformar_diccionario(diccionari)  # Llamamos a la función que transforma el diccionario\n",
    "    \n",
    "    # Imprimir el resultado (puede ser el diccionario invertido o la advertencia)\n",
    "    print(\"Resultado:\", resultado)\n",
    "\n",
    "\n",
    "# Ejecutar la función principal, pasando el diccionario como argumento\n",
    "if __name__ == \"__main__\":\n",
    "    main(diccionario_ejemplo)"
   ]
  },
  {
   "cell_type": "markdown",
   "metadata": {},
   "source": [
    "# NIVELL 2"
   ]
  },
  {
   "cell_type": "markdown",
   "metadata": {},
   "source": [
    "## Exercici 1"
   ]
  },
  {
   "cell_type": "markdown",
   "metadata": {},
   "source": [
    "Diccionari invers amb duplicats\n",
    "\n",
    "Continuant amb l'exercici 4 del nivell 1: al client es va oblidar de comentar un detall i resulta que els valors en el diccionari original poden duplicar-se i més, per la qual cosa les claus intercanviades poden tenir duplicats. En aquest cas, en l'exercici anterior imprimies un missatge d'advertiment, ara, els valors del diccionari resultant hauran d'emmagatzemar-se com una llista. Tingues en compte que si és un valor únic no ha de ser una llista."
   ]
  },
  {
   "cell_type": "code",
   "execution_count": 14,
   "metadata": {},
   "outputs": [
    {
     "name": "stdout",
     "output_type": "stream",
     "text": [
      "Diccionari invers amb duplicats\n",
      "Diccionari invertit: {'apple': 'x', 'banana': ['y', 'z']}\n"
     ]
    }
   ],
   "source": [
    "diccionari = {\n",
    "    \"x\": \"apple\",\n",
    "    \"y\": \"banana\",\n",
    "    \"z\": \"banana\"\n",
    "}\n",
    "\n",
    "def invertir_diccionario(diccionario):\n",
    "    \"\"\"Invierte un diccionario permitiendo valores duplicados agrupados en listas.\"\"\"\n",
    "    diccionario_inverso = {}\n",
    "    \n",
    "    for clave, valor in diccionario.items():\n",
    "        if valor in diccionario_inverso:\n",
    "            if isinstance(diccionario_inverso[valor], list):\n",
    "                diccionario_inverso[valor].append(clave)\n",
    "            else:\n",
    "                diccionario_inverso[valor] = [diccionario_inverso[valor], clave]\n",
    "        else:\n",
    "            diccionario_inverso[valor] = clave\n",
    "    \n",
    "    return diccionario_inverso\n",
    "\n",
    "def main():\n",
    "    print(\"Diccionari invers amb duplicats\")\n",
    "    diccionari_invers = invertir_diccionario(diccionari)\n",
    "    print(\"Diccionari invertit:\", diccionari_invers)\n",
    "\n",
    "if __name__ == \"__main__\":\n",
    "    main()\n"
   ]
  },
  {
   "cell_type": "markdown",
   "metadata": {},
   "source": [
    "## Exercici 2"
   ]
  },
  {
   "cell_type": "markdown",
   "metadata": {},
   "source": [
    "Conversió de tipus de dades\n",
    "\n",
    "El client rep una llista de dades i necessita generar dues llistes, la primera on estaran tots els elements que es van poder convertir en flotants i l'altra on estan els elements que no es van poder convertir. Exemple de la llista que rep el client: [ '1.3', 'one' , '1e10' , 'seven', '3-1/2', ('2',1,1.4,'not-a-number'), [1,2,'3','3.4']]"
   ]
  },
  {
   "cell_type": "code",
   "execution_count": 11,
   "metadata": {},
   "outputs": [
    {
     "name": "stdout",
     "output_type": "stream",
     "text": [
      "Conversión de tipos de datos\n",
      "Elementos convertidos a flotantes: [1.3, 10000000000.0, 2.0, 1.0, 1.4, 1.0, 2.0, 3.0, 3.4]\n",
      "Elementos no convertidos: ['one', 'seven', '3-1/2', 'not-a-number']\n"
     ]
    }
   ],
   "source": [
    "datos = ['1.3', 'one' , '1e10' , 'seven', '3-1/2', ('2',1,1.4,'not-a-number'), [1,2,'3','3.4']]\n",
    "\n",
    "def convertir_elemento(elemento):\n",
    "    \"\"\"Intenta convertir un elemento a flotante, devuelve None si no es posible.\"\"\"\n",
    "    try:\n",
    "        return float(elemento)\n",
    "    except (ValueError, TypeError):\n",
    "        return None\n",
    "\n",
    "def procesar_lista(entrada):\n",
    "    \"\"\"Procesa una lista/tupla y clasifica los elementos en convertidos y no convertidos.\"\"\"\n",
    "    convertidos = []\n",
    "    no_convertidos = []\n",
    "    \n",
    "    for elemento in entrada:\n",
    "        if isinstance(elemento, (list, tuple)):\n",
    "            sub_convertidos, sub_no_convertidos = procesar_lista(elemento)\n",
    "            convertidos.extend(sub_convertidos)\n",
    "            no_convertidos.extend(sub_no_convertidos)\n",
    "        else:\n",
    "            resultado = convertir_elemento(elemento)\n",
    "            if resultado is not None:\n",
    "                convertidos.append(resultado)\n",
    "            else:\n",
    "                no_convertidos.append(elemento)\n",
    "    \n",
    "    return convertidos, no_convertidos\n",
    "\n",
    "def main():\n",
    "    print(\"Conversión de tipos de datos\")\n",
    "    convertidos, no_convertidos = procesar_lista(datos)\n",
    "    \n",
    "    print(\"Elementos convertidos a flotantes:\", convertidos)\n",
    "    print(\"Elementos no convertidos:\", no_convertidos)\n",
    "\n",
    "if __name__ == \"__main__\":\n",
    "    main()"
   ]
  },
  {
   "cell_type": "markdown",
   "metadata": {},
   "source": [
    "# NIVELL 3"
   ]
  },
  {
   "cell_type": "markdown",
   "metadata": {},
   "source": [
    "## Exercici 1"
   ]
  },
  {
   "cell_type": "markdown",
   "metadata": {},
   "source": [
    "Comptador i endreçador de paraules d'un text.\n",
    "\n",
    "El client va quedar content amb el comptador de paraules, però ara vol llegir arxius TXT i que calculi la freqüència de cada paraula ordenades dins de les entrades habituals del diccionari segons la lletra amb la qual comencen, és a dir, les claus han d'anar de la A a la Z i dins de la A hem d'anar de la A la Z."
   ]
  },
  {
   "cell_type": "code",
   "execution_count": 16,
   "metadata": {},
   "outputs": [
    {
     "name": "stdout",
     "output_type": "stream",
     "text": [
      "'a': {'a': 3, 'agua': 1, 'al': 2, 'alba': 4, 'alcobas': 1, 'alimenta': 1, 'alma': 1, 'amarga': 1, 'azucena': 1}\n",
      "'b': {'baco': 1, 'banquete': 1, 'bebe': 1, 'blanca': 3, 'boca': 1, 'bosques': 1, 'buen': 1}\n",
      "'c': {'cabañas': 1, 'carnes': 2, 'casta': 3, 'cerrada': 1, 'con': 4, 'conservas': 1, 'copas': 1, 'corola': 1, 'corriste': 1, 'cuando': 2, 'cubierto': 1, 'cuerpo': 1, 'cuáles': 1}\n",
      "'d': {'de': 8, 'dejaste': 1, 'del': 1, 'diga': 1, 'dios': 2, 'duerme': 1}\n",
      "'e': {'el': 4, 'ellas': 1, 'en': 4, 'engaño': 1, 'enredada': 1, 'entonces': 1, 'escarcha': 1, 'espumas': 1, 'esqueleto': 1, 'estrago': 1}\n",
      "'f': {'festejando': 1, 'filtrado': 1, 'frutos': 1}\n",
      "'h': {'habla': 1, 'hacia': 1, 'haya': 1, 'hayas': 1, 'hermana': 1, 'hombre': 1, 'hubiste': 1, 'huye': 1}\n",
      "'i': {'intacto': 1}\n",
      "'j': {'jardines': 1}\n",
      "'l': {'la': 3, 'labios': 1, 'las': 7, 'lo': 2, 'los': 4, 'luna': 1, 'lévate': 1, 'límpiate': 1}\n",
      "'m': {'mano': 1, 'manos': 1, 'margarita': 1, 'me': 10, 'mi': 1, 'mieles': 1, 'milagros': 1, 'mojada': 1, 'montaña': 1, 'morados': 1}\n",
      "'n': {'negros': 1, 'ni': 2, 'no': 1, 'nácar': 1, 'nívea': 2}\n",
      "'p': {'perdone': 2, 'perfume': 1, 'por': 2, 'pretendes': 3, 'preténdeme': 3, 'puesto': 1, 'pájaros': 1, 'pámpanos': 1}\n",
      "'q': {'que': 6, 'quedó': 1, 'quieres': 6}\n",
      "'r': {'rayo': 1, 'raíz': 1, 'renueva': 1, 'rocas': 1, 'rojo': 1}\n",
      "'s': {'salitre': 1, 'se': 2, 'sea': 1, 'sean': 1, 'sobre': 2, 'sé': 1}\n",
      "'t': {'te': 3, 'tejidos': 1, 'tenue': 1, 'tierra': 1, 'toca': 1, 'todas': 2, 'todavía': 1, 'tornadas': 1, 'tú': 8}\n",
      "'u': {'un': 1, 'una': 1}\n",
      "'v': {'vestido': 1, 'vete': 1, 'vive': 1}\n",
      "'y': {'y': 5}\n"
     ]
    }
   ],
   "source": [
    "nombre_archivo = \"tu_me_quieres_blanca.txt\"\n",
    "\n",
    "def crear_ruta_archivo(nombre_archivo):\n",
    "    # Crear la ruta completa del archivo\n",
    "    return r\"C:\\Users\\santy\\Desktop\\curso especializacion data analitics\\sprint 7\" + \"\\\\\" + nombre_archivo\n",
    "\n",
    "def agrupar_palabras_por_letra(texto):\n",
    "    # Contar palabras usando la función previamente definida\n",
    "    contador = contar_palabras(texto)\n",
    "\n",
    "    # Ordenar palabras alfabéticamente\n",
    "    contador_ordenado = dict(sorted(contador.items()))\n",
    "\n",
    "    # Crear diccionario agrupado por la primera letra\n",
    "    diccionario_agrupado = {}\n",
    "    for palabra, cantidad in contador_ordenado.items():\n",
    "        primera_letra = palabra[0]\n",
    "        if primera_letra not in diccionario_agrupado:\n",
    "            diccionario_agrupado[primera_letra] = {}\n",
    "        diccionario_agrupado[primera_letra][palabra] = cantidad\n",
    "    \n",
    "    # Retornar el diccionario ordenado\n",
    "    return diccionario_agrupado\n",
    "\n",
    "def imprimir_diccionario(diccionario):\n",
    "    for letra, palabras in diccionario.items():\n",
    "        print(f\"'{letra}': {palabras}\")\n",
    "\n",
    "def main():\n",
    "    # Llamar a la función para obtener la ruta del archivo\n",
    "    ruta = crear_ruta_archivo(nombre_archivo)\n",
    "\n",
    "    # Leer el contenido del archivo\n",
    "    with open(ruta, 'r', encoding='utf-8') as archivo:\n",
    "        texto = archivo.read()\n",
    "\n",
    "    # Agrupar las palabras por la primera letra\n",
    "    diccionario_resultado = agrupar_palabras_por_letra(texto)\n",
    "\n",
    "    # Imprimir el resultado\n",
    "    imprimir_diccionario(diccionario_resultado)\n",
    "\n",
    "# Llamar a la función main para ejecutar el programa\n",
    "if __name__ == \"__main__\":\n",
    "    main()"
   ]
  }
 ],
 "metadata": {
  "kernelspec": {
   "display_name": "Python 3",
   "language": "python",
   "name": "python3"
  },
  "language_info": {
   "codemirror_mode": {
    "name": "ipython",
    "version": 3
   },
   "file_extension": ".py",
   "mimetype": "text/x-python",
   "name": "python",
   "nbconvert_exporter": "python",
   "pygments_lexer": "ipython3",
   "version": "3.13.2"
  }
 },
 "nbformat": 4,
 "nbformat_minor": 2
}
