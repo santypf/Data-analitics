{
 "cells": [
  {
   "cell_type": "markdown",
   "metadata": {},
   "source": [
    "# NIVELL 1"
   ]
  },
  {
   "cell_type": "markdown",
   "metadata": {},
   "source": [
    "## Exercici 1"
   ]
  },
  {
   "cell_type": "markdown",
   "metadata": {},
   "source": [
    "Calculadora de l'índex de massa corporal\n",
    "\n",
    "Escriu una funció que calculi l'IMC ingressat per l'usuari/ària, és a dir, qui ho executi haurà d'ingressar aquestes dades. Pots obtenir més informació del seu càlcul en:\n",
    "\n",
    "-> Índice de masa corporal IMC que es y como se calcula.\n",
    "\n",
    "La funció ha de classificar el resultat en les seves respectives categories"
   ]
  },
  {
   "cell_type": "code",
   "execution_count": 22,
   "metadata": {},
   "outputs": [
    {
     "name": "stdout",
     "output_type": "stream",
     "text": [
      "Calculadora de Índice de Masa Corporal (IMC)\n",
      "Error: El peso debe estar entre 1 y 500 kg.. Ingrese un valor válido.\n",
      "Error: La altura debe estar entre 0.5 y 3 metros.. Ingrese un valor válido.\n",
      "Error: could not convert string to float: '1,50'. Ingrese un valor válido.\n",
      "455654, su IMC es: 200.00\n",
      "Clasificación: Obesidad\n"
     ]
    }
   ],
   "source": [
    "def calcular_imc():\n",
    "    print(\"Calculadora de Índice de Masa Corporal (IMC)\")\n",
    "    \n",
    "    nombre = input(\"Nombre: \")\n",
    "    \n",
    "    while True:\n",
    "        try:\n",
    "            peso = float(input(\"Peso en kg: \"))\n",
    "            if peso <= 0 or peso > 500:  # Control de valores extremos\n",
    "                raise ValueError(\"El peso debe estar entre 1 y 500 kg.\")\n",
    "            break\n",
    "        except ValueError as e:\n",
    "            print(f\"Error: {e}. Ingrese un valor válido.\")\n",
    "    \n",
    "    while True:\n",
    "        try:\n",
    "            altura = float(input(\"Altura en metros: \"))\n",
    "            if altura <= 0 or altura > 3:  # Control de valores extremos\n",
    "                raise ValueError(\"La altura debe estar entre 0.5 y 3 metros.\")\n",
    "            break\n",
    "        except ValueError as e:\n",
    "            print(f\"Error: {e}. Ingrese un valor válido.\")\n",
    "    \n",
    "    imc = peso / (altura ** 2)  # Calculamos IMC\n",
    "    \n",
    "    # Definimos categorías\n",
    "    if imc < 18.5:\n",
    "        categoria = \"Bajo peso\"\n",
    "    elif 18.5 <= imc < 24.9:\n",
    "        categoria = \"Peso normal\"\n",
    "    elif 25 <= imc < 29.9:\n",
    "        categoria = \"Sobrepeso\"\n",
    "    else:\n",
    "        categoria = \"Obesidad\"\n",
    "    \n",
    "    # Imprimimos resultados\n",
    "    print(f\"{nombre}, su IMC es: {imc:.2f}\")\n",
    "    print(f\"Clasificación: {categoria}\")\n",
    "\n",
    "calcular_imc()\n"
   ]
  },
  {
   "cell_type": "markdown",
   "metadata": {},
   "source": [
    "## Exercici 2"
   ]
  },
  {
   "cell_type": "markdown",
   "metadata": {},
   "source": [
    "Convertidor de temperatures.\n",
    "\n",
    "Existeixen diverses unitats de temperatura utilitzades en diferents contextos i regions. Les més comunes són Celsius (°C), Fahrenheit (°F) i Kelvin (K). També existeixen altres unitats com Rankine (°Ra) i Réaumur (°Re). Selecciona almenys 2 conversors, de tal manera que en introduir una temperatura retorni, com a mínim, dues conversions."
   ]
  },
  {
   "cell_type": "code",
   "execution_count": 16,
   "metadata": {},
   "outputs": [
    {
     "name": "stdout",
     "output_type": "stream",
     "text": [
      "Convertidor de Temperaturas\n",
      "Seleccione la unidad de origen:\n",
      "1. Celsius (°C)\n",
      "2. Fahrenheit (°F)\n",
      "3. Kelvin (K)\n",
      "30.0°C equivale a 86.00°F y 303.15K\n"
     ]
    }
   ],
   "source": [
    "def convertir_temperatura():\n",
    "    print(\"Convertidor de Temperaturas\")\n",
    "    while True:\n",
    "        print(\"Seleccione la unidad de origen:\")\n",
    "        print(\"1. Celsius (°C)\")\n",
    "        print(\"2. Fahrenheit (°F)\")\n",
    "        print(\"3. Kelvin (K)\")\n",
    "        \n",
    "        try:\n",
    "            opcion = int(input(\"Ingrese el número de la opción: \"))\n",
    "            if opcion not in [1, 2, 3]:\n",
    "                print(\"Opción no válida. Intente de nuevo.\")\n",
    "                continue\n",
    "            \n",
    "            temperatura = float(input(\"Ingrese la temperatura: \"))\n",
    "            \n",
    "            if opcion == 1:  # Celsius a otras unidades\n",
    "                if temperatura < -273.15:\n",
    "                    print(\"Error: La temperatura en Celsius no puede ser menor a -273.15°C.\")\n",
    "                    continue\n",
    "                fahrenheit = (temperatura * 9/5) + 32\n",
    "                kelvin = temperatura + 273.15\n",
    "                print(f\"{temperatura}°C equivale a {fahrenheit:.2f}°F y {kelvin:.2f}K\")\n",
    "            \n",
    "            elif opcion == 2:  # Fahrenheit a otras unidades\n",
    "                celsius = (temperatura - 32) * 5/9\n",
    "                if celsius < -273.15:\n",
    "                    print(\"Error: La temperatura en Fahrenheit es menor a la mínima posible.\")\n",
    "                    continue\n",
    "                kelvin = celsius + 273.15\n",
    "                print(f\"{temperatura}°F equivale a {celsius:.2f}°C y {kelvin:.2f}K\")\n",
    "            \n",
    "            elif opcion == 3:  # Kelvin a otras unidades\n",
    "                if temperatura < 0:\n",
    "                    print(\"Error: La temperatura en Kelvin no puede ser negativa.\")\n",
    "                    continue\n",
    "                celsius = temperatura - 273.15\n",
    "                fahrenheit = (celsius * 9/5) + 32\n",
    "                print(f\"{temperatura}K equivale a {celsius:.2f}°C y {fahrenheit:.2f}°F\")\n",
    "            break\n",
    "        \n",
    "        except ValueError:\n",
    "            print(\"Error: Entrada inválida. Ingrese un número válido.\")\n",
    "\n",
    "# Llamar a la función\n",
    "convertir_temperatura()\n",
    "\n"
   ]
  },
  {
   "cell_type": "markdown",
   "metadata": {},
   "source": [
    "## Exercici 3"
   ]
  },
  {
   "cell_type": "markdown",
   "metadata": {},
   "source": [
    "Comptador de paraules d'un text.\n",
    "\n",
    "Escriu una funció que donat un text, mostri les vegades que apareix cada paraula"
   ]
  },
  {
   "cell_type": "code",
   "execution_count": 24,
   "metadata": {},
   "outputs": [
    {
     "name": "stdout",
     "output_type": "stream",
     "text": [
      "{'hola': 1, 'como': 1, 'estas': 1}\n"
     ]
    }
   ],
   "source": [
    "import re\n",
    "\n",
    "def contar_palabras(texto):\n",
    "    # Convertir el texto a minúsculas para evitar distinción de mayúsculas/minúsculas\n",
    "    texto = texto.lower()\n",
    "    \n",
    "    # Usar una expresión regular para eliminar caracteres no deseados excepto letras y números\n",
    "    palabras = re.findall(r'\\b[a-záéíóúüñA-ZÁÉÍÓÚÜÑ0-9]+\\b', texto)\n",
    "    \n",
    "    # Crear un diccionario para almacenar las palabras y su frecuencia\n",
    "    contador = {}\n",
    "    \n",
    "    for palabra in palabras:\n",
    "        # Si la palabra ya está en el diccionario, aumentar su cuenta\n",
    "        if palabra in contador:\n",
    "            contador[palabra] += 1\n",
    "        else:\n",
    "            # Si la palabra no está, agregarla con valor 1\n",
    "            contador[palabra] = 1\n",
    "    \n",
    "    return contador\n",
    "\n",
    "texto = input(\"Introduce el texto: \")\n",
    "print(contar_palabras(texto))"
   ]
  },
  {
   "cell_type": "markdown",
   "metadata": {},
   "source": [
    "## Exercici 4"
   ]
  },
  {
   "cell_type": "markdown",
   "metadata": {},
   "source": [
    "Diccionari invers.\n",
    "\n",
    "Resulta que el client té una enquesta molt antiga que s'emmagatzema en un diccionari i els resultats els necessita al revés, és a dir, intercanviats les claus i els valors. Els valors i claus en el diccionari original són únics; si aquest no és el cas, la funció hauria d'imprimir un missatge d'advertiment."
   ]
  },
  {
   "cell_type": "markdown",
   "metadata": {},
   "source": [
    "### exemple 1"
   ]
  },
  {
   "cell_type": "code",
   "execution_count": 13,
   "metadata": {},
   "outputs": [
    {
     "name": "stdout",
     "output_type": "stream",
     "text": [
      "Diccionario inverso\n",
      "Diccionario invertido: {1: 'a', 2: 'b', 3: 'c'}\n"
     ]
    }
   ],
   "source": [
    "print(\"Diccionario inverso\")\n",
    "\n",
    "diccionari = {\n",
    "    \"a\": 1,\n",
    "    \"b\": 2,\n",
    "    \"c\": 3\n",
    "}\n",
    "\n",
    "valors = list(diccionari.values()) # Crear una lista de los valores del diccionario\n",
    "if len(valors) != len(set(valors)): # Verificar si los valores son únicos\n",
    "    print(\"Advertencia: Los valores no son unicos, no se puede invertir correctamente el diccionario.\")\n",
    "else:\n",
    "    diccionari_invers = {valor: clau for clau, valor in diccionari.items()} # Se utiliza una comprensión de diccionario para invertir las claves y los valores\n",
    "    print(\"Diccionario invertido:\", diccionari_invers)"
   ]
  },
  {
   "cell_type": "markdown",
   "metadata": {},
   "source": [
    "### exemple 2"
   ]
  },
  {
   "cell_type": "code",
   "execution_count": 13,
   "metadata": {},
   "outputs": [
    {
     "name": "stdout",
     "output_type": "stream",
     "text": [
      "Diccionario inverso\n",
      "Advertencia: Los valores no son unicos, no se puede invertir correctamente el diccionario.\n"
     ]
    }
   ],
   "source": [
    "print(\"Diccionario inverso\")\n",
    "\n",
    "diccionari = {\n",
    "    \"x\": \"apple\",\n",
    "    \"y\": \"banana\",\n",
    "    \"z\": \"banana\"\n",
    "}\n",
    "\n",
    "valors = list(diccionari.values())\n",
    "if len(valors) != len(set(valors)):\n",
    "    print(\"Advertencia: Los valores no son unicos, no se puede invertir correctamente el diccionario.\")\n",
    "else:\n",
    "    diccionari_invers = {valor: clau for clau, valor in diccionari.items()}\n",
    "    print(\"Diccionari invertido:\", diccionari_invers)\n"
   ]
  },
  {
   "cell_type": "markdown",
   "metadata": {},
   "source": [
    "# NIVELL 2"
   ]
  },
  {
   "cell_type": "markdown",
   "metadata": {},
   "source": [
    "## Exercici 1"
   ]
  },
  {
   "cell_type": "markdown",
   "metadata": {},
   "source": [
    "Diccionari invers amb duplicats\n",
    "\n",
    "Continuant amb l'exercici 4 del nivell 1: al client es va oblidar de comentar un detall i resulta que els valors en el diccionari original poden duplicar-se i més, per la qual cosa les claus intercanviades poden tenir duplicats. En aquest cas, en l'exercici anterior imprimies un missatge d'advertiment, ara, els valors del diccionari resultant hauran d'emmagatzemar-se com una llista. Tingues en compte que si és un valor únic no ha de ser una llista."
   ]
  },
  {
   "cell_type": "code",
   "execution_count": 12,
   "metadata": {},
   "outputs": [
    {
     "name": "stdout",
     "output_type": "stream",
     "text": [
      "Diccionari invers amb duplicats\n",
      "Diccionari invertit: {'apple': 'x', 'banana': ['y', 'z']}\n"
     ]
    }
   ],
   "source": [
    "print(\"Diccionari invers amb duplicats\")\n",
    "\n",
    "diccionari = {\n",
    "    \"x\": \"apple\",\n",
    "    \"y\": \"banana\",\n",
    "    \"z\": \"banana\"\n",
    "}\n",
    "\n",
    "diccionari_invers = {} # Diccionario vacío que almacenará el diccionario invertido\n",
    "\n",
    "for clau, valor in diccionari.items(): # Iterar sobre cada clave y valor en el diccionario original\n",
    "    if valor in diccionari_invers:\n",
    "        if isinstance(diccionari_invers[valor], list): # Verificar si el valor es una lista (lo que significa que ya tiene varias claves asociadas)\n",
    "            diccionari_invers[valor].append(clau) # Si es una lista, agregar la nueva clave a la lista\n",
    "        else:\n",
    "            diccionari_invers[valor] = [diccionari_invers[valor], clau] # Si no es una lista, convertir el valor actual a una lista con las dos claves\n",
    "    else:\n",
    "        diccionari_invers[valor] = clau # Si el valor no está en el diccionario invertido, agregarlo con la clave asociada\n",
    "\n",
    "print(\"Diccionari invertit:\", diccionari_invers)"
   ]
  },
  {
   "cell_type": "markdown",
   "metadata": {},
   "source": [
    "## Exercici 2"
   ]
  },
  {
   "cell_type": "markdown",
   "metadata": {},
   "source": [
    "Conversió de tipus de dades\n",
    "\n",
    "El client rep una llista de dades i necessita generar dues llistes, la primera on estaran tots els elements que es van poder convertir en flotants i l'altra on estan els elements que no es van poder convertir. Exemple de la llista que rep el client: [ '1.3', 'one' , '1e10' , 'seven', '3-1/2', ('2',1,1.4,'not-a-number'), [1,2,'3','3.4']]"
   ]
  },
  {
   "cell_type": "code",
   "execution_count": null,
   "metadata": {},
   "outputs": [
    {
     "name": "stdout",
     "output_type": "stream",
     "text": [
      "Conversión de tipos de datos\n",
      "Elementos convertidos a flotantes: [1.3, 10000000000.0, 2.0, 1.0, 1.4, 3.0, 6.0, 8.0, 1.0, 2.0, 3.0, 3.4]\n",
      "Elementos no convertidos: ['one', 'seven', '3-1/2']\n"
     ]
    }
   ],
   "source": [
    "print(\"Conversión de tipos de datos\")\n",
    "\n",
    "# Función para convertir elementos en flotantes o separarlos si no se pueden convertir\n",
    "def convertir_datos(entrada, convertidos=None, no_convertidos=None):\n",
    "    if convertidos is None:\n",
    "        convertidos = []  # Lista para los elementos convertidos a flotante\n",
    "    if no_convertidos is None:\n",
    "        no_convertidos = []  # Lista para los elementos no convertibles\n",
    "    \n",
    "    for elemento in entrada:\n",
    "        if isinstance(elemento, (list, tuple)):  # Comprueba si el elemento es una lista o tupla\n",
    "            convertir_datos(elemento, convertidos, no_convertidos)  # Llamada recursiva a la función\n",
    "        else:\n",
    "            try:\n",
    "                convertidos.append(float(elemento))  # Intenta convertir a flotante\n",
    "            except (ValueError, TypeError):\n",
    "                no_convertidos.append(elemento)  # Si falla, lo agrega a la lista de no convertibles\n",
    "    \n",
    "    return convertidos, no_convertidos  # Retorna ambas listas\n",
    "\n",
    "# Lista de ejemplo con varios tipos de datos\n",
    "datos = ['1.3', 'one' , '1e10' , 'seven', '3-1/2', ('2',1,1.4,'not-a-number'), [1,2,'3','3.4']]\n",
    "convertidos, no_convertidos = convertir_datos(datos)\n",
    "\n",
    "# Muestra los resultados\n",
    "print(\"Elementos convertidos a flotantes:\", convertidos)\n",
    "print(\"Elementos no convertidos:\", no_convertidos)"
   ]
  },
  {
   "cell_type": "markdown",
   "metadata": {},
   "source": [
    "# NIVELL 3"
   ]
  },
  {
   "cell_type": "markdown",
   "metadata": {},
   "source": [
    "## Exercici 1"
   ]
  },
  {
   "cell_type": "markdown",
   "metadata": {},
   "source": [
    "Comptador i endreçador de paraules d'un text.\n",
    "\n",
    "El client va quedar content amb el comptador de paraules, però ara vol llegir arxius TXT i que calculi la freqüència de cada paraula ordenades dins de les entrades habituals del diccionari segons la lletra amb la qual comencen, és a dir, les claus han d'anar de la A a la Z i dins de la A hem d'anar de la A la Z."
   ]
  },
  {
   "cell_type": "code",
   "execution_count": 26,
   "metadata": {},
   "outputs": [
    {
     "name": "stdout",
     "output_type": "stream",
     "text": [
      "'a': {'a': 3, 'agua': 1, 'al': 2, 'alba': 4, 'alcobas': 1, 'alimenta': 1, 'alma': 1, 'amarga': 1, 'azucena': 1}\n",
      "'b': {'baco': 1, 'banquete': 1, 'bebe': 1, 'blanca': 3, 'boca': 1, 'bosques': 1, 'buen': 1}\n",
      "'c': {'cabañas': 1, 'carnes': 2, 'casta': 3, 'cerrada': 1, 'con': 4, 'conservas': 1, 'copas': 1, 'corola': 1, 'corriste': 1, 'cuando': 2, 'cubierto': 1, 'cuerpo': 1, 'cuáles': 1}\n",
      "'d': {'de': 8, 'dejaste': 1, 'del': 1, 'diga': 1, 'dios': 2, 'duerme': 1}\n",
      "'e': {'el': 4, 'ellas': 1, 'en': 4, 'engaño': 1, 'enredada': 1, 'entonces': 1, 'escarcha': 1, 'espumas': 1, 'esqueleto': 1, 'estrago': 1}\n",
      "'f': {'festejando': 1, 'filtrado': 1, 'frutos': 1}\n",
      "'h': {'habla': 1, 'hacia': 1, 'haya': 1, 'hayas': 1, 'hermana': 1, 'hombre': 1, 'hubiste': 1, 'huye': 1}\n",
      "'i': {'intacto': 1}\n",
      "'j': {'jardines': 1}\n",
      "'l': {'la': 3, 'labios': 1, 'las': 7, 'lo': 2, 'los': 4, 'luna': 1, 'lévate': 1, 'límpiate': 1}\n",
      "'m': {'mano': 1, 'manos': 1, 'margarita': 1, 'me': 10, 'mi': 1, 'mieles': 1, 'milagros': 1, 'mojada': 1, 'montaña': 1, 'morados': 1}\n",
      "'n': {'negros': 1, 'ni': 2, 'no': 1, 'nácar': 1, 'nívea': 2}\n",
      "'p': {'perdone': 2, 'perfume': 1, 'por': 2, 'pretendes': 3, 'preténdeme': 3, 'puesto': 1, 'pájaros': 1, 'pámpanos': 1}\n",
      "'q': {'que': 6, 'quedó': 1, 'quieres': 6}\n",
      "'r': {'rayo': 1, 'raíz': 1, 'renueva': 1, 'rocas': 1, 'rojo': 1}\n",
      "'s': {'salitre': 1, 'se': 2, 'sea': 1, 'sean': 1, 'sobre': 2, 'sé': 1}\n",
      "'t': {'te': 3, 'tejidos': 1, 'tenue': 1, 'tierra': 1, 'toca': 1, 'todas': 2, 'todavía': 1, 'tornadas': 1, 'tú': 8}\n",
      "'u': {'un': 1, 'una': 1}\n",
      "'v': {'vestido': 1, 'vete': 1, 'vive': 1}\n",
      "'y': {'y': 5}\n"
     ]
    }
   ],
   "source": [
    "# Abrir el archivo en modo lectura\n",
    "ruta = r\"C:\\Users\\santy\\Desktop\\curso especializacion data analitics\\sprint 7\\tu_me_quieres_blanca.txt\"\n",
    "\n",
    "with open(ruta, 'r', encoding='utf-8') as archivo:\n",
    "    texto = archivo.read()\n",
    "\n",
    "# Contar palabras\n",
    "contador = contar_palabras(texto)\n",
    "\n",
    "# Ordenar palabras alfabéticamente\n",
    "contador_ordenado = dict(sorted(contador.items()))\n",
    "\n",
    "# Crear diccionario agrupado por la primera letra sin usar defaultdict\n",
    "diccionario_agrupado = {}\n",
    "\n",
    "for palabra, cantidad in contador_ordenado.items():\n",
    "    primera_letra = palabra[0]\n",
    "    \n",
    "    # Si la letra no está en el diccionario, la agregamos con un diccionario vacío\n",
    "    if primera_letra not in diccionario_agrupado:\n",
    "        diccionario_agrupado[primera_letra] = {}\n",
    "    \n",
    "    diccionario_agrupado[primera_letra][palabra] = cantidad\n",
    "\n",
    "# Imprimir el diccionario ordenado\n",
    "for letra, palabras in diccionario_agrupado.items():\n",
    "    print(f\"'{letra}': {palabras}\")"
   ]
  }
 ],
 "metadata": {
  "kernelspec": {
   "display_name": "base",
   "language": "python",
   "name": "python3"
  },
  "language_info": {
   "codemirror_mode": {
    "name": "ipython",
    "version": 3
   },
   "file_extension": ".py",
   "mimetype": "text/x-python",
   "name": "python",
   "nbconvert_exporter": "python",
   "pygments_lexer": "ipython3",
   "version": "3.11.7"
  }
 },
 "nbformat": 4,
 "nbformat_minor": 2
}
